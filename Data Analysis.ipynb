{
 "metadata": {
  "name": ""
 },
 "nbformat": 3,
 "nbformat_minor": 0,
 "worksheets": [
  {
   "cells": [
    {
     "cell_type": "code",
     "collapsed": false,
     "input": [
      "import sys\n",
      "sys.path.append(\"script/\")\n",
      "import utils\n",
      "import numpy\n",
      "import scipy.spatial.distance as dist\n",
      "from collections import Counter\n",
      "\n",
      "def draw_barchart(data, xlabel, ylabel):\n",
      "    labels = sorted(set(data))\n",
      "    idx = np.arange(len(labels))\n",
      "    counts = dict()\n",
      "    for label in data:\n",
      "        counts[label] = counts.get(label, 0) + 1\n",
      "\n",
      "    plt.bar(idx, [counts[label] for label in labels], 1)\n",
      "    plt.xlabel(xlabel)\n",
      "    plt.ylabel(ylabel)\n",
      "    \n",
      "    plt.xticks(idx + .5, labels, rotation=90)\n",
      "    plt.xlim([0, len(idx)])\n",
      "    \n",
      "def select_data(data, key, value):\n",
      "    ret = []\n",
      "    for d in data:\n",
      "        if d[key] == value:\n",
      "            ret.append(d)\n",
      "            \n",
      "    return ret\n",
      "\n",
      "def extract_scan_values(data, key):\n",
      "    ret = []\n",
      "    for d in data:\n",
      "        for scan in d[\"scan\"]:\n",
      "            ret.append(scan[key])\n",
      "            \n",
      "    return ret\n",
      "\n",
      "def count_training_bssids(pattern, training_bssids):\n",
      "    ret = 0\n",
      "    for scan in pattern[\"scan\"]:\n",
      "        if scan[\"bssid\"] in training_bssids:\n",
      "            ret += 1\n",
      "        \n",
      "    return ret\n",
      "    \n",
      "def patterns_to_matrix(patterns, training_bssids):\n",
      "    ret = numpy.zeros((len(patterns), len(training_bssids)))\n",
      "    \n",
      "    for pattern_idx in range(len(patterns)):\n",
      "        my_bssids = {scan[\"bssid\"] : scan[\"rssi\"] for scan in patterns[pattern_idx][\"scan\"]}\n",
      "        for bssid_idx in range(len(training_bssids)):\n",
      "            ret[pattern_idx][bssid_idx] = my_bssids.get(training_bssids[bssid_idx], 0)\n",
      "                        \n",
      "    return ret"
     ],
     "language": "python",
     "metadata": {},
     "outputs": []
    },
    {
     "cell_type": "code",
     "collapsed": false,
     "input": [
      "training_patterns = utils.read_training_data(\"data/training.log\")\n",
      "train_bssids = extract_scan_values(training_patterns, \"bssid\")\n",
      "train_rssis = extract_scan_values(training_patterns, \"rssi\")\n",
      "train_ssids = extract_scan_values(training_patterns, \"ssid\")\n",
      "train_freqs = extract_scan_values(training_patterns, \"freq\")\n",
      "\n",
      "training_bssids = sorted(set(train_bssids))\n",
      "\n",
      "training_matrix = patterns_to_matrix(training_patterns, training_bssids)\n",
      "\n",
      "print \"Num training patterns= {0}, unique bssids= {1}, unique ssids= {2}\".format(len(training_patterns), len(set(train_bssids)), len(set(train_ssids)))\n"
     ],
     "language": "python",
     "metadata": {},
     "outputs": []
    },
    {
     "cell_type": "code",
     "collapsed": false,
     "input": [
      "print Counter(train_bssids).most_common(10)\n",
      "print Counter(train_ssids).most_common(20)\n",
      "\n",
      "%matplotlib inline\n",
      "pylab.rcParams['figure.figsize'] = (15.0, 20.0)\n",
      "plt.subplot(311)\n",
      "draw_barchart(train_ssids, \"ssid\", \"count\")\n",
      "plt.subplot(312)\n",
      "draw_barchart(train_freqs, \"freqs\", \"count\")\n",
      "plt.subplot(313)\n",
      "draw_barchart(train_rssis, \"rssi\", \"count\")\n",
      "plt.tight_layout()"
     ],
     "language": "python",
     "metadata": {},
     "outputs": []
    },
    {
     "cell_type": "code",
     "collapsed": false,
     "input": [
      "training_dist = dist.squareform(dist.pdist(training_matrix, 'cosine'))"
     ],
     "language": "python",
     "metadata": {},
     "outputs": []
    },
    {
     "cell_type": "code",
     "collapsed": false,
     "input": [
      "plt.rcParams['figure.figsize'] = (10.0, 10.0)\n",
      "plt.pcolormesh(training_dist, cmap=plt.cm.Blues)\n",
      "plt.axis((0, len(training_dist), 0, len(training_dist)))"
     ],
     "language": "python",
     "metadata": {},
     "outputs": []
    },
    {
     "cell_type": "code",
     "collapsed": false,
     "input": [
      "experimental_data = utils.read_data(\"data/wifi_survey.log\")\n",
      "experimental_data = select_data(experimental_data, \"model\", \"SAMSUNG-SGH-I317\")\n",
      "\n",
      "min_training_bssids = 10\n",
      "tmp = []\n",
      "for pattern in experimental_data:\n",
      "    if count_training_bssids(pattern, train_bssids) > min_training_bssids:\n",
      "        tmp.append(pattern)\n",
      "        \n",
      "experimental_data = tmp\n",
      "tmp = None\n",
      "\n",
      "exp_bssids = extract_scan_values(experimental_data, \"bssid\")\n",
      "exp_rssis = extract_scan_values(experimental_data, \"rssi\")\n",
      "exp_ssids = extract_scan_values(experimental_data, \"ssid\")\n",
      "exp_freqs = extract_scan_values(experimental_data, \"freq\")\n",
      "\n",
      "experimental_matrix = patterns_to_matrix(experimental_data, training_bssids)\n",
      "print \"Num experimental patterns= {0}, unique bssids= {1}, unique ssids= {2}\".format(len(experimental_data), len(set(exp_bssids)), len(set(exp_ssids)))\n"
     ],
     "language": "python",
     "metadata": {},
     "outputs": []
    },
    {
     "cell_type": "code",
     "collapsed": true,
     "input": [
      "from collections import Counter\n",
      "print Counter(exp_bssids).most_common(10)\n",
      "print Counter(exp_ssids).most_common(10)\n",
      "\n",
      "    \n",
      "%matplotlib inline\n",
      "pylab.rcParams['figure.figsize'] = (15.0, 20.0)\n",
      "plt.subplot(311)\n",
      "draw_barchart(exp_freqs, \"freqs\", \"count\")\n",
      "plt.subplot(312)\n",
      "draw_barchart(exp_rssis, \"rssi\", \"count\")\n",
      "plt.tight_layout()\n",
      "\n",
      "\n",
      "import time\n",
      "import datetime\n",
      "\n",
      "time_format = \"%a %b %d %H:%M:%S %Z %Y\"\n",
      "\n",
      "dates = []\n",
      "for pattern in experimental_data:\n",
      "    date = datetime.datetime(*time.strptime(pattern[\"time\"], time_format)[:4])\n",
      "    dates.append(date)\n",
      "\n",
      "plt.subplot(313)\n",
      "draw_barchart(dates, \"date\", \"count\")"
     ],
     "language": "python",
     "metadata": {},
     "outputs": []
    },
    {
     "cell_type": "code",
     "collapsed": false,
     "input": [
      "experimental_dist = dist.cdist(training_matrix, experimental_matrix, 'cosine')\n",
      "experimental_dist = numpy.transpose(numpy.nan_to_num(experimental_dist))\n",
      "experimental_dist = experimental_dist[experimental_dist.any(1)]\n",
      "print len(experimental_dist), len(experimental_dist[0])"
     ],
     "language": "python",
     "metadata": {},
     "outputs": []
    },
    {
     "cell_type": "code",
     "collapsed": false,
     "input": [
      "plt.rcParams['figure.figsize'] = (15.0, 10.0)\n",
      "plt.pcolormesh(experimental_dist)\n",
      "plt.axis((0, len(experimental_dist[0]), 0, len(experimental_dist)))"
     ],
     "language": "python",
     "metadata": {},
     "outputs": []
    },
    {
     "cell_type": "code",
     "collapsed": true,
     "input": [
      "knn = numpy.argsort(experimental_dist)\n",
      "knn_labels = [[training_patterns[neighbor][\"location\"] for neighbor in knn[i]] for i in range(len(knn))]\n",
      "print len(experimental_dist), len(experimental_data), len(knn), len(knn_labels)"
     ],
     "language": "python",
     "metadata": {},
     "outputs": []
    },
    {
     "cell_type": "code",
     "collapsed": false,
     "input": [
      "exp_labels = [0] * len(experimental_data)\n",
      "k = 15\n",
      "for i in range(len(experimental_data)):\n",
      "    neighbors = knn_labels[i][:k]\n",
      "    exp_labels[i] = Counter(neighbors).most_common()\n",
      "    print experimental_data[i][\"time\"], exp_labels[i], neighbors\n"
     ],
     "language": "python",
     "metadata": {},
     "outputs": []
    },
    {
     "cell_type": "code",
     "collapsed": false,
     "input": [],
     "language": "python",
     "metadata": {},
     "outputs": []
    }
   ],
   "metadata": {}
  }
 ]
}